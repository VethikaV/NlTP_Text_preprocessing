{
 "cells": [
  {
   "cell_type": "code",
   "execution_count": 55,
   "metadata": {},
   "outputs": [
    {
     "ename": "SyntaxError",
     "evalue": "(unicode error) 'unicodeescape' codec can't decode bytes in position 2-3: truncated \\UXXXXXXXX escape (3666905485.py, line 13)",
     "output_type": "error",
     "traceback": [
      "\u001b[1;36m  Cell \u001b[1;32mIn[55], line 13\u001b[1;36m\u001b[0m\n\u001b[1;33m    data = pd.read_csv('C:\\Users\\Vethika\\NlTP_Text_preprocessing\\all_kindle_review.csv')\u001b[0m\n\u001b[1;37m                                                                                       ^\u001b[0m\n\u001b[1;31mSyntaxError\u001b[0m\u001b[1;31m:\u001b[0m (unicode error) 'unicodeescape' codec can't decode bytes in position 2-3: truncated \\UXXXXXXXX escape\n"
     ]
    }
   ],
   "source": [
    "import pandas as pd\n",
    "import numpy as np\n",
    "import re\n",
    "from sklearn.model_selection import train_test_split\n",
    "from sklearn.feature_extraction.text import TfidfVectorizer\n",
    "from sklearn.linear_model import LogisticRegression\n",
    "from sklearn.metrics import accuracy_score, precision_score, recall_score, f1_score\n",
    "from gensim.models import Word2Vec\n",
    "from nltk.corpus import stopwords\n",
    "import nltk\n",
    "nltk.download('stopwords')\n",
    "# Load the dataset'\n",
    "data = pd.read_csv('C:\\Users\\Vethika\\NlTP_Text_preprocessing\\all_kindle_review.csv')\n",
    "\n",
    "# Derive Sentiment (Target Variable) from Rating\n",
    "data['Sentiment'] = data['rating'].apply(lambda x: 1 if x > 3 else 0)\n",
    "\n",
    "# Text Preprocessing\n",
    "def preprocess_text(text):\n",
    "    text = str(text).lower()  # Convert to lowercase\n",
    "    text = re.sub(r'[^\\w\\s]', '', text)  # Remove punctuation and special characters\n",
    "    text = re.sub(r'\\d+', '', text)  # Remove numbers\n",
    "    stop_words = set(stopwords.words('english'))\n",
    "    text = \" \".join([word for word in text.split() if word not in stop_words])  # Remove stop words\n",
    "    return text\n",
    "\n",
    "data['Cleaned_Review'] = data['reviewText'].apply(preprocess_text)\n",
    "\n",
    "# TF-IDF Feature Extraction\n",
    "tfidf = TfidfVectorizer(max_features=5000)\n",
    "X_tfidf = tfidf.fit_transform(data['Cleaned_Review'].dropna()).toarray()\n",
    "y = data['Sentiment']\n",
    "X_train_tfidf, X_test_tfidf, y_train_tfidf, y_test_tfidf = train_test_split(X_tfidf, y, test_size=0.2, random_state=42)\n",
    "\n",
    "# Word2Vec Feature Extraction\n",
    "data['Tokenized_Review'] = data['Cleaned_Review'].apply(lambda x: x.split())\n",
    "w2v_model = Word2Vec(sentences=data['Tokenized_Review'].dropna(), vector_size=100, window=5, min_count=1, workers=4)\n",
    "\n",
    "def word2vec_features(tokenized_review):\n",
    "    feature_vec = np.zeros(100)\n",
    "    num_words = 0\n",
    "    for word in tokenized_review:\n",
    "        if word in w2v_model.wv:\n",
    "            feature_vec += w2v_model.wv[word]\n",
    "            num_words += 1\n",
    "    return feature_vec / num_words if num_words > 0 else feature_vec\n",
    "\n",
    "X_w2v = np.array(data['Tokenized_Review'].dropna().apply(word2vec_features).tolist())\n",
    "X_train_w2v, X_test_w2v, y_train_w2v, y_test_w2v = train_test_split(X_w2v, y, test_size=0.2, random_state=42)\n",
    "\n",
    "# Model Training and Evaluation\n",
    "def train_evaluate_model(X_train, X_test, y_train, y_test):\n",
    "    model = LogisticRegression()\n",
    "    model.fit(X_train, y_train)\n",
    "    y_pred = model.predict(X_test)\n",
    "    accuracy = accuracy_score(y_test, y_pred)\n",
    "    precision = precision_score(y_test, y_pred)\n",
    "    recall = recall_score(y_test, y_pred)\n",
    "    f1 = f1_score(y_test, y_pred)\n",
    "    return accuracy, precision, recall, f1\n",
    "\n",
    "# Results for TF-IDF\n",
    "print(\"TF-IDF Results:\")\n",
    "acc, prec, rec, f1 = train_evaluate_model(X_train_tfidf, X_test_tfidf, y_train_tfidf, y_test_tfidf)\n",
    "print(f\"Accuracy: {acc:.4f}, Precision: {prec:.4f}, Recall: {rec:.4f}, F1-Score: {f1:.4f}\")\n",
    "\n",
    "# Results for Word2Vec\n",
    "print(\"\\nWord2Vec Results:\")\n",
    "acc, prec, rec, f1 = train_evaluate_model(X_train_w2v, X_test_w2v, y_train_w2v, y_test_w2v)\n",
    "print(f\"Accuracy: {acc:.4f}, Precision: {prec:.4f}, Recall: {rec:.4f}, F1-Score: {f1:.4f}\")"
   ]
  }
 ],
 "metadata": {
  "kernelspec": {
   "display_name": ".venv",
   "language": "python",
   "name": "python3"
  },
  "language_info": {
   "codemirror_mode": {
    "name": "ipython",
    "version": 3
   },
   "file_extension": ".py",
   "mimetype": "text/x-python",
   "name": "python",
   "nbconvert_exporter": "python",
   "pygments_lexer": "ipython3",
   "version": "3.10.8"
  }
 },
 "nbformat": 4,
 "nbformat_minor": 2
}
